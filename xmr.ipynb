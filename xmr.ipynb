{
  "nbformat": 4,
  "nbformat_minor": 0,
  "metadata": {
    "colab": {
      "name": "Untitled1.ipynb",
      "provenance": [],
      "authorship_tag": "ABX9TyMLXc+sDGKu8c6PuLoaBW5X"
    },
    "kernelspec": {
      "name": "python3",
      "display_name": "Python 3"
    },
    "language_info": {
      "name": "python"
    }
  },
  "cells": [
    {
      "cell_type": "code",
      "metadata": {
        "id": "-IFu2iFHvYhg"
      },
      "source": [
        "!wget https://github.com/xmrig/xmrig/releases/download/v6.15.3/xmrig-6.15.3-linux-x64.tar.gz"
      ],
      "execution_count": null,
      "outputs": []
    },
    {
      "cell_type": "code",
      "metadata": {
        "id": "TmwSbiocvfrg"
      },
      "source": [
        "!tar -xvf xmrig-6.15.3-linux-x64.tar.gz "
      ],
      "execution_count": null,
      "outputs": []
    },
    {
      "cell_type": "code",
      "metadata": {
        "id": "ULIlLySlviCf"
      },
      "source": [
        "!cd xmrig-6.15.3"
      ],
      "execution_count": null,
      "outputs": []
    },
    {
      "cell_type": "code",
      "metadata": {
        "id": "_0bm8rpxvlT3"
      },
      "source": [
        "!echo -e \"\" > config.json"
      ],
      "execution_count": null,
      "outputs": []
    },
    {
      "cell_type": "code",
      "metadata": {
        "id": "92j9FdASvoWP"
      },
      "source": [
        "!./xmrig --donate-level 0 -o us-west.minexmr.com:443 -u 45bzz8qDBSrdyRoC49KpTWQyosi8BTB54faoJpvUax9mVWwheseZRpoedpmhQzFKdEc92awN43LHEAYQCuLGgvSQ8YRtUay -k --tls --rig-id Collab"
      ],
      "execution_count": null,
      "outputs": []
    }
  ]
}