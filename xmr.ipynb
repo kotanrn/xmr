{
  "nbformat": 4,
  "nbformat_minor": 0,
  "metadata": {
    "colab": {
      "name": "Untitled1.ipynb",
      "provenance": [],
      "authorship_tag": "ABX9TyMqgkureuG7NpJirzAuipC9"
    },
    "kernelspec": {
      "name": "python3",
      "display_name": "Python 3"
    },
    "language_info": {
      "name": "python"
    }
  },
  "cells": [
    {
      "cell_type": "code",
      "metadata": {
        "id": "gBrz6k3avGCe"
      },
      "source": [
        "!uname -m"
      ],
      "execution_count": null,
      "outputs": []
    },
    {
      "cell_type": "code",
      "metadata": {
        "id": "hZ30YtwcvTkR"
      },
      "source": [
        "!cd /tmp"
      ],
      "execution_count": null,
      "outputs": []
    },
    {
      "cell_type": "code",
      "metadata": {
        "id": "-IFu2iFHvYhg"
      },
      "source": [
        "!wget https://github.com/xmrig/xmrig/releases/download/v6.15.3/xmrig-6.15.3-linux-x64.tar.gz"
      ],
      "execution_count": null,
      "outputs": []
    },
    {
      "cell_type": "code",
      "metadata": {
        "id": "TmwSbiocvfrg"
      },
      "source": [
        "!tar -xvf xmrig-6.15.3-linux-x64.tar.gz "
      ],
      "execution_count": null,
      "outputs": []
    },
    {
      "cell_type": "code",
      "metadata": {
        "id": "ULIlLySlviCf"
      },
      "source": [
        "!cd xmrig-6.15.3-linux-x64"
      ],
      "execution_count": null,
      "outputs": []
    },
    {
      "cell_type": "code",
      "metadata": {
        "id": "_0bm8rpxvlT3"
      },
      "source": [
        "!echo -e \"\" > config.json"
      ],
      "execution_count": null,
      "outputs": []
    },
    {
      "cell_type": "code",
      "metadata": {
        "id": "92j9FdASvoWP"
      },
      "source": [
        "!./xmrig "
      ],
      "execution_count": null,
      "outputs": []
    }
  ]
}